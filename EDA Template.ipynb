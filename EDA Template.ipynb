{
 "cells": [
  {
   "cell_type": "markdown",
   "id": "90b5bf0e",
   "metadata": {},
   "source": [
    "# STOR 320: Introduction to Data Science\n",
    "## EDA Group PLACE_GROUP_NUMBER_HERE (Ex: EDA Group 12)"
   ]
  },
  {
   "cell_type": "markdown",
   "id": "75baebf2",
   "metadata": {},
   "source": [
    "## Part 1: Data cleaning, merging, and visualization (6 points)"
   ]
  },
  {
   "cell_type": "code",
   "execution_count": 1,
   "id": "2b530fc6",
   "metadata": {},
   "outputs": [],
   "source": [
    "import pandas as pd\n",
    "import numpy as np\n",
    "import matplotlib.pyplot as plt\n",
    "import seaborn as sns"
   ]
  },
  {
   "cell_type": "code",
   "execution_count": 2,
   "id": "87ab7966",
   "metadata": {},
   "outputs": [],
   "source": [
    "flights = pd.read_csv('flights.csv')\n",
    "hotel = pd.read_csv('hotel_bookings.csv')"
   ]
  },
  {
   "cell_type": "code",
   "execution_count": 3,
   "id": "02994d93",
   "metadata": {},
   "outputs": [
    {
     "name": "stdout",
     "output_type": "stream",
     "text": [
      "Index(['id', 'year', 'month', 'day', 'dep_time', 'sched_dep_time', 'dep_delay',\n",
      "       'arr_time', 'sched_arr_time', 'arr_delay', 'carrier', 'flight',\n",
      "       'tailnum', 'origin', 'dest', 'air_time', 'distance', 'hour', 'minute',\n",
      "       'time_hour', 'name'],\n",
      "      dtype='object')\n"
     ]
    },
    {
     "data": {
      "text/plain": [
       "Index(['hotel', 'is_canceled', 'lead_time', 'arrival_date_year',\n",
       "       'arrival_date_month', 'arrival_date_week_number',\n",
       "       'arrival_date_day_of_month', 'stays_in_weekend_nights',\n",
       "       'stays_in_week_nights', 'adults', 'children', 'babies', 'meal',\n",
       "       'country', 'market_segment', 'distribution_channel',\n",
       "       'is_repeated_guest', 'previous_cancellations',\n",
       "       'previous_bookings_not_canceled', 'reserved_room_type',\n",
       "       'assigned_room_type', 'booking_changes', 'deposit_type', 'agent',\n",
       "       'company', 'days_in_waiting_list', 'customer_type', 'adr',\n",
       "       'required_car_parking_spaces', 'total_of_special_requests',\n",
       "       'reservation_status', 'reservation_status_date'],\n",
       "      dtype='object')"
      ]
     },
     "execution_count": 3,
     "metadata": {},
     "output_type": "execute_result"
    }
   ],
   "source": [
    "## column names check (1 point)\n",
    "print(flights.columns)\n",
    "hotel.columns"
   ]
  },
  {
   "cell_type": "code",
   "execution_count": 6,
   "id": "ab6d422d",
   "metadata": {},
   "outputs": [
    {
     "name": "stdout",
     "output_type": "stream",
     "text": [
      "id                   0\n",
      "year                 0\n",
      "month                0\n",
      "day                  0\n",
      "dep_time          8255\n",
      "sched_dep_time       0\n",
      "dep_delay         8255\n",
      "arr_time          8713\n",
      "sched_arr_time       0\n",
      "arr_delay         9430\n",
      "carrier              0\n",
      "flight               0\n",
      "tailnum           2512\n",
      "origin               0\n",
      "dest                 0\n",
      "air_time          9430\n",
      "distance             0\n",
      "hour                 0\n",
      "minute               0\n",
      "time_hour            0\n",
      "name                 0\n",
      "dtype: int64\n"
     ]
    },
    {
     "data": {
      "text/plain": [
       "hotel                                  0\n",
       "is_canceled                            0\n",
       "lead_time                              0\n",
       "arrival_date_year                      0\n",
       "arrival_date_month                     0\n",
       "arrival_date_week_number               0\n",
       "arrival_date_day_of_month              0\n",
       "stays_in_weekend_nights                0\n",
       "stays_in_week_nights                   0\n",
       "adults                                 0\n",
       "children                               4\n",
       "babies                                 0\n",
       "meal                                   0\n",
       "country                              488\n",
       "market_segment                         0\n",
       "distribution_channel                   0\n",
       "is_repeated_guest                      0\n",
       "previous_cancellations                 0\n",
       "previous_bookings_not_canceled         0\n",
       "reserved_room_type                     0\n",
       "assigned_room_type                     0\n",
       "booking_changes                        0\n",
       "deposit_type                           0\n",
       "agent                              16340\n",
       "company                           112593\n",
       "days_in_waiting_list                   0\n",
       "customer_type                          0\n",
       "adr                                    0\n",
       "required_car_parking_spaces            0\n",
       "total_of_special_requests              0\n",
       "reservation_status                     0\n",
       "reservation_status_date                0\n",
       "dtype: int64"
      ]
     },
     "execution_count": 6,
     "metadata": {},
     "output_type": "execute_result"
    }
   ],
   "source": [
    "## missing data check (1 point)\n",
    "print(flights.isnull().sum())\n",
    "hotel.isnull().sum()"
   ]
  },
  {
   "cell_type": "code",
   "execution_count": null,
   "id": "4552e565",
   "metadata": {},
   "outputs": [],
   "source": [
    "## Outlier check (1 point)"
   ]
  },
  {
   "cell_type": "code",
   "execution_count": null,
   "id": "c1e7f005",
   "metadata": {},
   "outputs": [],
   "source": []
  },
  {
   "cell_type": "code",
   "execution_count": null,
   "id": "f94afc6a",
   "metadata": {},
   "outputs": [],
   "source": [
    "## data merging (1 point)"
   ]
  },
  {
   "cell_type": "code",
   "execution_count": null,
   "id": "f72dd568",
   "metadata": {},
   "outputs": [],
   "source": []
  },
  {
   "cell_type": "code",
   "execution_count": null,
   "id": "07df9fde",
   "metadata": {},
   "outputs": [],
   "source": [
    "## data transformation, normalization, and cleaning (1 point)"
   ]
  },
  {
   "cell_type": "code",
   "execution_count": null,
   "id": "ca8f3ec3",
   "metadata": {},
   "outputs": [],
   "source": []
  },
  {
   "cell_type": "code",
   "execution_count": null,
   "id": "00578df2",
   "metadata": {},
   "outputs": [],
   "source": [
    "## Exploratory data visualization (1 point)"
   ]
  },
  {
   "cell_type": "code",
   "execution_count": null,
   "id": "aae771ca",
   "metadata": {},
   "outputs": [],
   "source": []
  },
  {
   "cell_type": "markdown",
   "id": "fd7d31c4",
   "metadata": {},
   "source": [
    "## Part 2: Answer questions from the proposals (8 points)\n",
    "\n",
    "Each plot should be followed by a paragraph of explanation and observation."
   ]
  },
  {
   "cell_type": "markdown",
   "id": "e15d0f56",
   "metadata": {},
   "source": [
    "### Creator: FIRSTNAME LASTNAME"
   ]
  },
  {
   "cell_type": "markdown",
   "id": "b9c8d7c9",
   "metadata": {},
   "source": [
    "#### Question:"
   ]
  },
  {
   "cell_type": "code",
   "execution_count": null,
   "id": "cbb13171",
   "metadata": {},
   "outputs": [],
   "source": []
  },
  {
   "cell_type": "markdown",
   "id": "1ccab0ce",
   "metadata": {},
   "source": [
    "#### Answer:"
   ]
  },
  {
   "cell_type": "code",
   "execution_count": null,
   "id": "fe5c107a",
   "metadata": {},
   "outputs": [],
   "source": []
  },
  {
   "cell_type": "markdown",
   "id": "437e4d84",
   "metadata": {},
   "source": [
    "### Interpreter 1: FIRSTNAME LASTNAME"
   ]
  },
  {
   "cell_type": "markdown",
   "id": "50599b5b",
   "metadata": {},
   "source": [
    "#### Question:"
   ]
  },
  {
   "cell_type": "code",
   "execution_count": null,
   "id": "77e60d17",
   "metadata": {},
   "outputs": [],
   "source": []
  },
  {
   "cell_type": "markdown",
   "id": "298bc007",
   "metadata": {},
   "source": [
    "#### Answer:"
   ]
  },
  {
   "cell_type": "code",
   "execution_count": null,
   "id": "e53710f8",
   "metadata": {},
   "outputs": [],
   "source": []
  },
  {
   "cell_type": "markdown",
   "id": "9d53e9b0",
   "metadata": {},
   "source": [
    "### Interpreter 2: FIRSTNAME LASTNAME"
   ]
  },
  {
   "cell_type": "code",
   "execution_count": null,
   "id": "1d2b40d4",
   "metadata": {},
   "outputs": [],
   "source": []
  },
  {
   "cell_type": "markdown",
   "id": "c07c591b",
   "metadata": {},
   "source": [
    "#### Question:"
   ]
  },
  {
   "cell_type": "code",
   "execution_count": null,
   "id": "fee54ad1",
   "metadata": {},
   "outputs": [],
   "source": []
  },
  {
   "cell_type": "markdown",
   "id": "6ee99ca0",
   "metadata": {},
   "source": [
    "#### Answer:"
   ]
  },
  {
   "cell_type": "code",
   "execution_count": null,
   "id": "110bc676",
   "metadata": {},
   "outputs": [],
   "source": []
  },
  {
   "cell_type": "code",
   "execution_count": 2,
   "id": "89d0d757",
   "metadata": {},
   "outputs": [],
   "source": [
    "## Add more cells if your group has more than two interpreters"
   ]
  },
  {
   "cell_type": "code",
   "execution_count": null,
   "id": "9da679a5",
   "metadata": {},
   "outputs": [],
   "source": []
  },
  {
   "cell_type": "markdown",
   "id": "a14f1a12",
   "metadata": {},
   "source": [
    "### Deliverer: FIRSTNAME LASTNAME"
   ]
  },
  {
   "cell_type": "markdown",
   "id": "fb842bc0",
   "metadata": {},
   "source": [
    "#### Question:"
   ]
  },
  {
   "cell_type": "code",
   "execution_count": null,
   "id": "7b6366b6",
   "metadata": {},
   "outputs": [],
   "source": []
  },
  {
   "cell_type": "markdown",
   "id": "66900cec",
   "metadata": {},
   "source": [
    "#### Answer:"
   ]
  },
  {
   "cell_type": "code",
   "execution_count": null,
   "id": "2bb2e39c",
   "metadata": {},
   "outputs": [],
   "source": []
  },
  {
   "cell_type": "code",
   "execution_count": null,
   "id": "80037f25",
   "metadata": {},
   "outputs": [],
   "source": []
  },
  {
   "cell_type": "markdown",
   "id": "0017b592",
   "metadata": {},
   "source": [
    "## Part 3: Follow-up Questions (4 points)\n",
    "\n",
    "### New Questions Based Off Initial Investigation\n",
    "\n",
    "- Q1: WRITE_QUESTION_HERE\n",
    "- Q2: WRITE_QUESTION_HERE"
   ]
  },
  {
   "cell_type": "code",
   "execution_count": null,
   "id": "a522decb",
   "metadata": {},
   "outputs": [],
   "source": []
  },
  {
   "cell_type": "markdown",
   "id": "839bab0e",
   "metadata": {},
   "source": [
    "## Summary (2 points)\n",
    "\n",
    "GIVE A 2 PARAGRAPH SUMMARY. \n",
    "\n",
    "PARAGRAPH 1 SHOULD DESCRIBE WHAT YOU LEARNED ABOUT YOUR DATA FROM INVESTIGATING THE INITIAL QUESTIONS. DID YOU FIND ANYTHING UNUSUAL IN YOUR DATA? DID ANYTHING SURPRISE YOU? WHICH OF THE INITIAL QUESTIONS WERE HELPFUL IN LEADING YOU TO MORE QUESTIONS?\n",
    "\n",
    "PARAGRAPH 2 SHOULD SUMMARIZE WHAT YOU LEARNED FROM INVESTIGATING THE FOLLOW-UP QUESTIONS. WHY ARE THESE FOLLOW-UP QUESTIONS INTERESTING FOR INVESTIGATION? DESCRIBE THE TABLES/FIGURES YOU USED TO EXPLORE ANSWERS TO THESE FOLLOW-UP QUESTIONS? WHAT DID YOU LEARN FROM THE TABLES/FIGURES REGARDING THE FOLLOW-UP QUESTIONS YOU PROPOSED?"
   ]
  },
  {
   "cell_type": "code",
   "execution_count": null,
   "id": "2210d6d9",
   "metadata": {},
   "outputs": [],
   "source": []
  }
 ],
 "metadata": {
  "kernelspec": {
   "display_name": "Python 3",
   "language": "python",
   "name": "python3"
  },
  "language_info": {
   "codemirror_mode": {
    "name": "ipython",
    "version": 3
   },
   "file_extension": ".py",
   "mimetype": "text/x-python",
   "name": "python",
   "nbconvert_exporter": "python",
   "pygments_lexer": "ipython3",
   "version": "3.11.4"
  }
 },
 "nbformat": 4,
 "nbformat_minor": 5
}
