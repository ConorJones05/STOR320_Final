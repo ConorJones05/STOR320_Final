{
 "cells": [
  {
   "cell_type": "markdown",
   "id": "90b5bf0e",
   "metadata": {},
   "source": [
    "# STOR 320: Introduction to Data Science\n",
    "## EDA Group PLACE_GROUP_NUMBER_HERE (Ex: EDA Group 12)"
   ]
  },
  {
   "cell_type": "markdown",
   "id": "75baebf2",
   "metadata": {},
   "source": [
    "## Part 1: Data cleaning, merging, and visualization (6 points)"
   ]
  },
  {
   "cell_type": "code",
   "execution_count": 1,
   "id": "2b530fc6",
   "metadata": {},
   "outputs": [],
   "source": [
    "import pandas as pd\n",
    "import numpy as np\n",
    "import matplotlib.pyplot as plt\n",
    "import seaborn as sns"
   ]
  },
  {
   "cell_type": "code",
   "execution_count": 2,
   "id": "87ab7966",
   "metadata": {},
   "outputs": [],
   "source": [
    "flights = pd.read_csv('flights.csv')\n",
    "hotel = pd.read_csv('hotel_bookings.csv')"
   ]
  },
  {
   "cell_type": "code",
   "execution_count": 3,
   "id": "02994d93",
   "metadata": {},
   "outputs": [
    {
     "name": "stdout",
     "output_type": "stream",
     "text": [
      "Index(['id', 'year', 'month', 'day', 'dep_time', 'sched_dep_time', 'dep_delay',\n",
      "       'arr_time', 'sched_arr_time', 'arr_delay', 'carrier', 'flight',\n",
      "       'tailnum', 'origin', 'dest', 'air_time', 'distance', 'hour', 'minute',\n",
      "       'time_hour', 'name'],\n",
      "      dtype='object')\n"
     ]
    },
    {
     "data": {
      "text/plain": [
       "Index(['hotel', 'is_canceled', 'lead_time', 'arrival_date_year',\n",
       "       'arrival_date_month', 'arrival_date_week_number',\n",
       "       'arrival_date_day_of_month', 'stays_in_weekend_nights',\n",
       "       'stays_in_week_nights', 'adults', 'children', 'babies', 'meal',\n",
       "       'country', 'market_segment', 'distribution_channel',\n",
       "       'is_repeated_guest', 'previous_cancellations',\n",
       "       'previous_bookings_not_canceled', 'reserved_room_type',\n",
       "       'assigned_room_type', 'booking_changes', 'deposit_type', 'agent',\n",
       "       'company', 'days_in_waiting_list', 'customer_type', 'adr',\n",
       "       'required_car_parking_spaces', 'total_of_special_requests',\n",
       "       'reservation_status', 'reservation_status_date'],\n",
       "      dtype='object')"
      ]
     },
     "execution_count": 3,
     "metadata": {},
     "output_type": "execute_result"
    }
   ],
   "source": [
    "## column names check (1 point)\n",
    "print(flights.columns)\n",
    "hotel.columns"
   ]
  },
  {
   "cell_type": "code",
   "execution_count": 4,
   "id": "ab6d422d",
   "metadata": {},
   "outputs": [
    {
     "name": "stdout",
     "output_type": "stream",
     "text": [
      "id                   0\n",
      "year                 0\n",
      "month                0\n",
      "day                  0\n",
      "dep_time          8255\n",
      "sched_dep_time       0\n",
      "dep_delay         8255\n",
      "arr_time          8713\n",
      "sched_arr_time       0\n",
      "arr_delay         9430\n",
      "carrier              0\n",
      "flight               0\n",
      "tailnum           2512\n",
      "origin               0\n",
      "dest                 0\n",
      "air_time          9430\n",
      "distance             0\n",
      "hour                 0\n",
      "minute               0\n",
      "time_hour            0\n",
      "name                 0\n",
      "dtype: int64\n"
     ]
    },
    {
     "data": {
      "text/plain": [
       "hotel                                  0\n",
       "is_canceled                            0\n",
       "lead_time                              0\n",
       "arrival_date_year                      0\n",
       "arrival_date_month                     0\n",
       "arrival_date_week_number               0\n",
       "arrival_date_day_of_month              0\n",
       "stays_in_weekend_nights                0\n",
       "stays_in_week_nights                   0\n",
       "adults                                 0\n",
       "children                               4\n",
       "babies                                 0\n",
       "meal                                   0\n",
       "country                              488\n",
       "market_segment                         0\n",
       "distribution_channel                   0\n",
       "is_repeated_guest                      0\n",
       "previous_cancellations                 0\n",
       "previous_bookings_not_canceled         0\n",
       "reserved_room_type                     0\n",
       "assigned_room_type                     0\n",
       "booking_changes                        0\n",
       "deposit_type                           0\n",
       "agent                              16340\n",
       "company                           112593\n",
       "days_in_waiting_list                   0\n",
       "customer_type                          0\n",
       "adr                                    0\n",
       "required_car_parking_spaces            0\n",
       "total_of_special_requests              0\n",
       "reservation_status                     0\n",
       "reservation_status_date                0\n",
       "dtype: int64"
      ]
     },
     "execution_count": 4,
     "metadata": {},
     "output_type": "execute_result"
    }
   ],
   "source": [
    "## missing data check (1 point)\n",
    "print(flights.isnull().sum())\n",
    "hotel.isnull().sum()"
   ]
  },
  {
   "cell_type": "code",
   "execution_count": null,
   "id": "4552e565",
   "metadata": {},
   "outputs": [],
   "source": [
    "## Outlier check (1 point)"
   ]
  },
  {
   "cell_type": "code",
   "execution_count": 5,
   "id": "c1e7f005",
   "metadata": {},
   "outputs": [
    {
     "name": "stdout",
     "output_type": "stream",
     "text": [
      "           arr_delay      dep_delay       distance       air_time\n",
      "count  327346.000000  328521.000000  336776.000000  327346.000000\n",
      "mean        6.895377      12.639070    1039.912604     150.686460\n",
      "std        44.633292      40.210061     733.233033      93.688305\n",
      "min       -86.000000     -43.000000      17.000000      20.000000\n",
      "25%       -17.000000      -5.000000     502.000000      82.000000\n",
      "50%        -5.000000      -2.000000     872.000000     129.000000\n",
      "75%        14.000000      11.000000    1389.000000     192.000000\n",
      "max      1272.000000    1301.000000    4983.000000     695.000000\n",
      "           lead_time  previous_cancellations  previous_bookings_not_canceled  \\\n",
      "count  119390.000000           119390.000000                   119390.000000   \n",
      "mean      104.011416                0.087118                        0.137097   \n",
      "std       106.863097                0.844336                        1.497437   \n",
      "min         0.000000                0.000000                        0.000000   \n",
      "25%        18.000000                0.000000                        0.000000   \n",
      "50%        69.000000                0.000000                        0.000000   \n",
      "75%       160.000000                0.000000                        0.000000   \n",
      "max       737.000000               26.000000                       72.000000   \n",
      "\n",
      "       booking_changes  \n",
      "count    119390.000000  \n",
      "mean          0.221124  \n",
      "std           0.652306  \n",
      "min           0.000000  \n",
      "25%           0.000000  \n",
      "50%           0.000000  \n",
      "75%           0.000000  \n",
      "max          21.000000  \n"
     ]
    },
    {
     "data": {
      "image/png": "[encoded data removed]",
      "text/plain": [
       "<Figure size 1400x600 with 2 Axes>"
      ]
     },
     "metadata": {},
     "output_type": "display_data"
    }
   ],
   "source": [
    "print(flights.describe()[['arr_delay','dep_delay','distance','air_time']])\n",
    "print(hotel.describe()[['lead_time','previous_cancellations','previous_bookings_not_canceled','booking_changes']])\n",
    "\n",
    "plt.figure(figsize=(14, 6))\n",
    "plt.subplot(1, 2, 1)\n",
    "sns.boxplot(data=flights[['arr_delay', 'dep_delay', 'distance', 'air_time']])\n",
    "plt.title('Box Plot of Flight Delays and Distance')\n",
    "plt.ylabel('Values')\n",
    "plt.xticks(rotation=45)\n",
    "\n",
    "plt.subplot(1, 2, 2)\n",
    "sns.boxplot(data=hotel[['lead_time', 'previous_cancellations', 'previous_bookings_not_canceled', 'booking_changes']])\n",
    "plt.title('Box Plot of Hotel Booking Metrics')\n",
    "plt.ylabel('Values')\n",
    "plt.xticks(rotation=45)\n",
    "\n",
    "plt.tight_layout()\n",
    "plt.show()"
   ]
  },
  {
   "cell_type": "code",
   "execution_count": null,
   "id": "f94afc6a",
   "metadata": {},
   "outputs": [],
   "source": [
    "## data merging (1 point)"
   ]
  },
  {
   "cell_type": "code",
   "execution_count": 15,
   "id": "f72dd568",
   "metadata": {},
   "outputs": [
    {
     "data": {
      "text/html": [
       "<div>\n",
       "<style scoped>\n",
       "    .dataframe tbody tr th:only-of-type {\n",
       "        vertical-align: middle;\n",
       "    }\n",
       "\n",
       "    .dataframe tbody tr th {\n",
       "        vertical-align: top;\n",
       "    }\n",
       "\n",
       "    .dataframe thead th {\n",
       "        text-align: right;\n",
       "    }\n",
       "</style>\n",
       "<table border=\"1\" class=\"dataframe\">\n",
       "  <thead>\n",
       "    <tr style=\"text-align: right;\">\n",
       "      <th></th>\n",
       "      <th>id</th>\n",
       "      <th>year</th>\n",
       "      <th>month</th>\n",
       "      <th>day</th>\n",
       "      <th>dep_time</th>\n",
       "      <th>sched_dep_time</th>\n",
       "      <th>dep_delay</th>\n",
       "      <th>arr_time</th>\n",
       "      <th>sched_arr_time</th>\n",
       "      <th>arr_delay</th>\n",
       "      <th>...</th>\n",
       "      <th>agent</th>\n",
       "      <th>company</th>\n",
       "      <th>days_in_waiting_list</th>\n",
       "      <th>customer_type</th>\n",
       "      <th>adr</th>\n",
       "      <th>required_car_parking_spaces</th>\n",
       "      <th>total_of_special_requests</th>\n",
       "      <th>reservation_status</th>\n",
       "      <th>reservation_status_date</th>\n",
       "      <th>arrival_date_month_numeric</th>\n",
       "    </tr>\n",
       "  </thead>\n",
       "  <tbody>\n",
       "    <tr>\n",
       "      <th>0</th>\n",
       "      <td>0</td>\n",
       "      <td>2013</td>\n",
       "      <td>1</td>\n",
       "      <td>1</td>\n",
       "      <td>517.0</td>\n",
       "      <td>515</td>\n",
       "      <td>2.0</td>\n",
       "      <td>830.0</td>\n",
       "      <td>819</td>\n",
       "      <td>11.0</td>\n",
       "      <td>...</td>\n",
       "      <td>8.0</td>\n",
       "      <td>NaN</td>\n",
       "      <td>0</td>\n",
       "      <td>Transient</td>\n",
       "      <td>92.0</td>\n",
       "      <td>0</td>\n",
       "      <td>1</td>\n",
       "      <td>Check-Out</td>\n",
       "      <td>2016-01-03</td>\n",
       "      <td>1</td>\n",
       "    </tr>\n",
       "    <tr>\n",
       "      <th>1</th>\n",
       "      <td>1</td>\n",
       "      <td>2013</td>\n",
       "      <td>1</td>\n",
       "      <td>1</td>\n",
       "      <td>533.0</td>\n",
       "      <td>529</td>\n",
       "      <td>4.0</td>\n",
       "      <td>850.0</td>\n",
       "      <td>830</td>\n",
       "      <td>20.0</td>\n",
       "      <td>...</td>\n",
       "      <td>8.0</td>\n",
       "      <td>NaN</td>\n",
       "      <td>0</td>\n",
       "      <td>Transient</td>\n",
       "      <td>92.0</td>\n",
       "      <td>0</td>\n",
       "      <td>1</td>\n",
       "      <td>Check-Out</td>\n",
       "      <td>2016-01-03</td>\n",
       "      <td>1</td>\n",
       "    </tr>\n",
       "    <tr>\n",
       "      <th>2</th>\n",
       "      <td>2</td>\n",
       "      <td>2013</td>\n",
       "      <td>1</td>\n",
       "      <td>1</td>\n",
       "      <td>542.0</td>\n",
       "      <td>540</td>\n",
       "      <td>2.0</td>\n",
       "      <td>923.0</td>\n",
       "      <td>850</td>\n",
       "      <td>33.0</td>\n",
       "      <td>...</td>\n",
       "      <td>8.0</td>\n",
       "      <td>NaN</td>\n",
       "      <td>0</td>\n",
       "      <td>Transient</td>\n",
       "      <td>92.0</td>\n",
       "      <td>0</td>\n",
       "      <td>1</td>\n",
       "      <td>Check-Out</td>\n",
       "      <td>2016-01-03</td>\n",
       "      <td>1</td>\n",
       "    </tr>\n",
       "    <tr>\n",
       "      <th>3</th>\n",
       "      <td>3</td>\n",
       "      <td>2013</td>\n",
       "      <td>1</td>\n",
       "      <td>1</td>\n",
       "      <td>544.0</td>\n",
       "      <td>545</td>\n",
       "      <td>-1.0</td>\n",
       "      <td>1004.0</td>\n",
       "      <td>1022</td>\n",
       "      <td>-18.0</td>\n",
       "      <td>...</td>\n",
       "      <td>8.0</td>\n",
       "      <td>NaN</td>\n",
       "      <td>0</td>\n",
       "      <td>Transient</td>\n",
       "      <td>92.0</td>\n",
       "      <td>0</td>\n",
       "      <td>1</td>\n",
       "      <td>Check-Out</td>\n",
       "      <td>2016-01-03</td>\n",
       "      <td>1</td>\n",
       "    </tr>\n",
       "    <tr>\n",
       "      <th>4</th>\n",
       "      <td>4</td>\n",
       "      <td>2013</td>\n",
       "      <td>1</td>\n",
       "      <td>1</td>\n",
       "      <td>554.0</td>\n",
       "      <td>600</td>\n",
       "      <td>-6.0</td>\n",
       "      <td>812.0</td>\n",
       "      <td>837</td>\n",
       "      <td>-25.0</td>\n",
       "      <td>...</td>\n",
       "      <td>8.0</td>\n",
       "      <td>NaN</td>\n",
       "      <td>0</td>\n",
       "      <td>Transient</td>\n",
       "      <td>92.0</td>\n",
       "      <td>0</td>\n",
       "      <td>1</td>\n",
       "      <td>Check-Out</td>\n",
       "      <td>2016-01-03</td>\n",
       "      <td>1</td>\n",
       "    </tr>\n",
       "    <tr>\n",
       "      <th>...</th>\n",
       "      <td>...</td>\n",
       "      <td>...</td>\n",
       "      <td>...</td>\n",
       "      <td>...</td>\n",
       "      <td>...</td>\n",
       "      <td>...</td>\n",
       "      <td>...</td>\n",
       "      <td>...</td>\n",
       "      <td>...</td>\n",
       "      <td>...</td>\n",
       "      <td>...</td>\n",
       "      <td>...</td>\n",
       "      <td>...</td>\n",
       "      <td>...</td>\n",
       "      <td>...</td>\n",
       "      <td>...</td>\n",
       "      <td>...</td>\n",
       "      <td>...</td>\n",
       "      <td>...</td>\n",
       "      <td>...</td>\n",
       "      <td>...</td>\n",
       "    </tr>\n",
       "    <tr>\n",
       "      <th>694147</th>\n",
       "      <td>336774</td>\n",
       "      <td>2013</td>\n",
       "      <td>9</td>\n",
       "      <td>30</td>\n",
       "      <td>NaN</td>\n",
       "      <td>1159</td>\n",
       "      <td>NaN</td>\n",
       "      <td>NaN</td>\n",
       "      <td>1344</td>\n",
       "      <td>NaN</td>\n",
       "      <td>...</td>\n",
       "      <td>240.0</td>\n",
       "      <td>NaN</td>\n",
       "      <td>0</td>\n",
       "      <td>Transient</td>\n",
       "      <td>136.0</td>\n",
       "      <td>1</td>\n",
       "      <td>1</td>\n",
       "      <td>Check-Out</td>\n",
       "      <td>2016-10-01</td>\n",
       "      <td>9</td>\n",
       "    </tr>\n",
       "    <tr>\n",
       "      <th>694148</th>\n",
       "      <td>336774</td>\n",
       "      <td>2013</td>\n",
       "      <td>9</td>\n",
       "      <td>30</td>\n",
       "      <td>NaN</td>\n",
       "      <td>1159</td>\n",
       "      <td>NaN</td>\n",
       "      <td>NaN</td>\n",
       "      <td>1344</td>\n",
       "      <td>NaN</td>\n",
       "      <td>...</td>\n",
       "      <td>14.0</td>\n",
       "      <td>NaN</td>\n",
       "      <td>0</td>\n",
       "      <td>Transient</td>\n",
       "      <td>215.0</td>\n",
       "      <td>0</td>\n",
       "      <td>0</td>\n",
       "      <td>Check-Out</td>\n",
       "      <td>2016-10-03</td>\n",
       "      <td>9</td>\n",
       "    </tr>\n",
       "    <tr>\n",
       "      <th>694149</th>\n",
       "      <td>336775</td>\n",
       "      <td>2013</td>\n",
       "      <td>9</td>\n",
       "      <td>30</td>\n",
       "      <td>NaN</td>\n",
       "      <td>840</td>\n",
       "      <td>NaN</td>\n",
       "      <td>NaN</td>\n",
       "      <td>1020</td>\n",
       "      <td>NaN</td>\n",
       "      <td>...</td>\n",
       "      <td>240.0</td>\n",
       "      <td>NaN</td>\n",
       "      <td>0</td>\n",
       "      <td>Transient</td>\n",
       "      <td>139.0</td>\n",
       "      <td>0</td>\n",
       "      <td>0</td>\n",
       "      <td>Canceled</td>\n",
       "      <td>2016-07-23</td>\n",
       "      <td>9</td>\n",
       "    </tr>\n",
       "    <tr>\n",
       "      <th>694150</th>\n",
       "      <td>336775</td>\n",
       "      <td>2013</td>\n",
       "      <td>9</td>\n",
       "      <td>30</td>\n",
       "      <td>NaN</td>\n",
       "      <td>840</td>\n",
       "      <td>NaN</td>\n",
       "      <td>NaN</td>\n",
       "      <td>1020</td>\n",
       "      <td>NaN</td>\n",
       "      <td>...</td>\n",
       "      <td>240.0</td>\n",
       "      <td>NaN</td>\n",
       "      <td>0</td>\n",
       "      <td>Transient</td>\n",
       "      <td>136.0</td>\n",
       "      <td>1</td>\n",
       "      <td>1</td>\n",
       "      <td>Check-Out</td>\n",
       "      <td>2016-10-01</td>\n",
       "      <td>9</td>\n",
       "    </tr>\n",
       "    <tr>\n",
       "      <th>694151</th>\n",
       "      <td>336775</td>\n",
       "      <td>2013</td>\n",
       "      <td>9</td>\n",
       "      <td>30</td>\n",
       "      <td>NaN</td>\n",
       "      <td>840</td>\n",
       "      <td>NaN</td>\n",
       "      <td>NaN</td>\n",
       "      <td>1020</td>\n",
       "      <td>NaN</td>\n",
       "      <td>...</td>\n",
       "      <td>14.0</td>\n",
       "      <td>NaN</td>\n",
       "      <td>0</td>\n",
       "      <td>Transient</td>\n",
       "      <td>215.0</td>\n",
       "      <td>0</td>\n",
       "      <td>0</td>\n",
       "      <td>Check-Out</td>\n",
       "      <td>2016-10-03</td>\n",
       "      <td>9</td>\n",
       "    </tr>\n",
       "  </tbody>\n",
       "</table>\n",
       "<p>694152 rows × 54 columns</p>\n",
       "</div>"
      ],
      "text/plain": [
       "            id  year  month  day  dep_time  sched_dep_time  dep_delay  \\\n",
       "0            0  2013      1    1     517.0             515        2.0   \n",
       "1            1  2013      1    1     533.0             529        4.0   \n",
       "2            2  2013      1    1     542.0             540        2.0   \n",
       "3            3  2013      1    1     544.0             545       -1.0   \n",
       "4            4  2013      1    1     554.0             600       -6.0   \n",
       "...        ...   ...    ...  ...       ...             ...        ...   \n",
       "694147  336774  2013      9   30       NaN            1159        NaN   \n",
       "694148  336774  2013      9   30       NaN            1159        NaN   \n",
       "694149  336775  2013      9   30       NaN             840        NaN   \n",
       "694150  336775  2013      9   30       NaN             840        NaN   \n",
       "694151  336775  2013      9   30       NaN             840        NaN   \n",
       "\n",
       "        arr_time  sched_arr_time  arr_delay  ...  agent  company  \\\n",
       "0          830.0             819       11.0  ...    8.0      NaN   \n",
       "1          850.0             830       20.0  ...    8.0      NaN   \n",
       "2          923.0             850       33.0  ...    8.0      NaN   \n",
       "3         1004.0            1022      -18.0  ...    8.0      NaN   \n",
       "4          812.0             837      -25.0  ...    8.0      NaN   \n",
       "...          ...             ...        ...  ...    ...      ...   \n",
       "694147       NaN            1344        NaN  ...  240.0      NaN   \n",
       "694148       NaN            1344        NaN  ...   14.0      NaN   \n",
       "694149       NaN            1020        NaN  ...  240.0      NaN   \n",
       "694150       NaN            1020        NaN  ...  240.0      NaN   \n",
       "694151       NaN            1020        NaN  ...   14.0      NaN   \n",
       "\n",
       "       days_in_waiting_list customer_type    adr  required_car_parking_spaces  \\\n",
       "0                         0     Transient   92.0                            0   \n",
       "1                         0     Transient   92.0                            0   \n",
       "2                         0     Transient   92.0                            0   \n",
       "3                         0     Transient   92.0                            0   \n",
       "4                         0     Transient   92.0                            0   \n",
       "...                     ...           ...    ...                          ...   \n",
       "694147                    0     Transient  136.0                            1   \n",
       "694148                    0     Transient  215.0                            0   \n",
       "694149                    0     Transient  139.0                            0   \n",
       "694150                    0     Transient  136.0                            1   \n",
       "694151                    0     Transient  215.0                            0   \n",
       "\n",
       "        total_of_special_requests  reservation_status  \\\n",
       "0                               1           Check-Out   \n",
       "1                               1           Check-Out   \n",
       "2                               1           Check-Out   \n",
       "3                               1           Check-Out   \n",
       "4                               1           Check-Out   \n",
       "...                           ...                 ...   \n",
       "694147                          1           Check-Out   \n",
       "694148                          0           Check-Out   \n",
       "694149                          0            Canceled   \n",
       "694150                          1           Check-Out   \n",
       "694151                          0           Check-Out   \n",
       "\n",
       "        reservation_status_date arrival_date_month_numeric  \n",
       "0                    2016-01-03                          1  \n",
       "1                    2016-01-03                          1  \n",
       "2                    2016-01-03                          1  \n",
       "3                    2016-01-03                          1  \n",
       "4                    2016-01-03                          1  \n",
       "...                         ...                        ...  \n",
       "694147               2016-10-01                          9  \n",
       "694148               2016-10-03                          9  \n",
       "694149               2016-07-23                          9  \n",
       "694150               2016-10-01                          9  \n",
       "694151               2016-10-03                          9  \n",
       "\n",
       "[694152 rows x 54 columns]"
      ]
     },
     "execution_count": 15,
     "metadata": {},
     "output_type": "execute_result"
    }
   ],
   "source": [
    "month_mapping = {\n",
    "    'January': 1, 'February': 2, 'March': 3, 'April': 4,\n",
    "    'May': 5, 'June': 6, 'July': 7, 'August': 8,\n",
    "    'September': 9, 'October': 10, 'November': 11, 'December': 12\n",
    "}\n",
    "hotel['arrival_date_month_numeric'] = hotel['arrival_date_month'].map(month_mapping)\n",
    "\n",
    "flights['month'] = flights['month'].astype(int)\n",
    "flights['day'] = flights['day'].astype(int)\n",
    "hotel['arrival_date_month_numeric'] = hotel['arrival_date_month_numeric'].astype(int)\n",
    "hotel['arrival_date_day_of_month'] = hotel['arrival_date_day_of_month'].astype(int)\n",
    "hotel['arrival_date_year'] = hotel['arrival_date_year'].astype(int)\n",
    "\n",
    "hotel_filtered = hotel[\n",
    "    (hotel['country'] == 'USA') & \n",
    "    (hotel['arrival_date_year'] == 2016) &\n",
    "    (hotel['arrival_date_month_numeric'] >= 1) &\n",
    "    (hotel['arrival_date_month_numeric'] <= 9) &\n",
    "    (\n",
    "        (hotel['arrival_date_month_numeric'] < 9) |\n",
    "        (hotel['arrival_date_day_of_month'] <= 30)\n",
    "    )\n",
    "]\n",
    "merged_data = pd.merge(\n",
    "    flights, hotel_filtered, \n",
    "    left_on=['month', 'day'], \n",
    "    right_on=['arrival_date_month_numeric', 'arrival_date_day_of_month'], \n",
    "    how='inner'\n",
    ")\n",
    "merged_data"
   ]
  },
  {
   "cell_type": "code",
   "execution_count": null,
   "id": "07df9fde",
   "metadata": {},
   "outputs": [],
   "source": [
    "## data transformation, normalization, and cleaning (1 point)"
   ]
  },
  {
   "cell_type": "code",
   "execution_count": null,
   "id": "ca8f3ec3",
   "metadata": {},
   "outputs": [],
   "source": []
  },
  {
   "cell_type": "code",
   "execution_count": null,
   "id": "00578df2",
   "metadata": {},
   "outputs": [],
   "source": [
    "## Exploratory data visualization (1 point)"
   ]
  },
  {
   "cell_type": "code",
   "execution_count": null,
   "id": "aae771ca",
   "metadata": {},
   "outputs": [],
   "source": []
  },
  {
   "cell_type": "markdown",
   "id": "fd7d31c4",
   "metadata": {},
   "source": [
    "## Part 2: Answer questions from the proposals (8 points)\n",
    "\n",
    "Each plot should be followed by a paragraph of explanation and observation."
   ]
  },
  {
   "cell_type": "markdown",
   "id": "e15d0f56",
   "metadata": {},
   "source": [
    "### Creator: FIRSTNAME LASTNAME"
   ]
  },
  {
   "cell_type": "markdown",
   "id": "b9c8d7c9",
   "metadata": {},
   "source": [
    "#### Question:"
   ]
  },
  {
   "cell_type": "code",
   "execution_count": null,
   "id": "cbb13171",
   "metadata": {},
   "outputs": [],
   "source": []
  },
  {
   "cell_type": "markdown",
   "id": "1ccab0ce",
   "metadata": {},
   "source": [
    "#### Answer:"
   ]
  },
  {
   "cell_type": "code",
   "execution_count": null,
   "id": "fe5c107a",
   "metadata": {},
   "outputs": [],
   "source": []
  },
  {
   "cell_type": "markdown",
   "id": "437e4d84",
   "metadata": {},
   "source": [
    "### Interpreter 1: FIRSTNAME LASTNAME"
   ]
  },
  {
   "cell_type": "markdown",
   "id": "50599b5b",
   "metadata": {},
   "source": [
    "#### Question:"
   ]
  },
  {
   "cell_type": "code",
   "execution_count": null,
   "id": "77e60d17",
   "metadata": {},
   "outputs": [],
   "source": []
  },
  {
   "cell_type": "markdown",
   "id": "298bc007",
   "metadata": {},
   "source": [
    "#### Answer:"
   ]
  },
  {
   "cell_type": "code",
   "execution_count": null,
   "id": "e53710f8",
   "metadata": {},
   "outputs": [],
   "source": []
  },
  {
   "cell_type": "markdown",
   "id": "9d53e9b0",
   "metadata": {},
   "source": [
    "### Interpreter 2: Daniel Xu"
   ]
  },
  {
   "cell_type": "code",
   "execution_count": null,
   "id": "1d2b40d4",
   "metadata": {},
   "outputs": [],
   "source": []
  },
  {
   "cell_type": "markdown",
   "id": "c07c591b",
   "metadata": {},
   "source": [
    "#### Question:"
   ]
  },
  {
   "cell_type": "code",
   "execution_count": null,
   "id": "fee54ad1",
   "metadata": {},
   "outputs": [],
   "source": []
  },
  {
   "cell_type": "markdown",
   "id": "6ee99ca0",
   "metadata": {},
   "source": [
    "#### Answer:"
   ]
  },
  {
   "cell_type": "code",
   "execution_count": null,
   "id": "110bc676",
   "metadata": {},
   "outputs": [],
   "source": []
  },
  {
   "cell_type": "code",
   "execution_count": 2,
   "id": "89d0d757",
   "metadata": {},
   "outputs": [],
   "source": [
    "## Add more cells if your group has more than two interpreters"
   ]
  },
  {
   "cell_type": "code",
   "execution_count": null,
   "id": "9da679a5",
   "metadata": {},
   "outputs": [],
   "source": []
  },
  {
   "cell_type": "markdown",
   "id": "a14f1a12",
   "metadata": {},
   "source": [
    "### Deliverer: Sichen Li"
   ]
  },
  {
   "cell_type": "markdown",
   "id": "fb842bc0",
   "metadata": {},
   "source": [
    "#### Question:"
   ]
  },
  {
   "cell_type": "code",
   "execution_count": null,
   "id": "7b6366b6",
   "metadata": {},
   "outputs": [],
   "source": []
  },
  {
   "cell_type": "markdown",
   "id": "66900cec",
   "metadata": {},
   "source": [
    "#### Answer:"
   ]
  },
  {
   "cell_type": "code",
   "execution_count": null,
   "id": "2bb2e39c",
   "metadata": {},
   "outputs": [],
   "source": []
  },
  {
   "cell_type": "code",
   "execution_count": null,
   "id": "80037f25",
   "metadata": {},
   "outputs": [],
   "source": []
  },
  {
   "cell_type": "markdown",
   "id": "0017b592",
   "metadata": {},
   "source": [
    "## Part 3: Follow-up Questions (4 points)\n",
    "\n",
    "### New Questions Based Off Initial Investigation\n",
    "\n",
    "- Q1: WRITE_QUESTION_HERE\n",
    "- Q2: WRITE_QUESTION_HERE"
   ]
  },
  {
   "cell_type": "code",
   "execution_count": null,
   "id": "a522decb",
   "metadata": {},
   "outputs": [],
   "source": []
  },
  {
   "cell_type": "markdown",
   "id": "839bab0e",
   "metadata": {},
   "source": [
    "## Summary (2 points)\n",
    "\n",
    "GIVE A 2 PARAGRAPH SUMMARY. \n",
    "\n",
    "PARAGRAPH 1 SHOULD DESCRIBE WHAT YOU LEARNED ABOUT YOUR DATA FROM INVESTIGATING THE INITIAL QUESTIONS. DID YOU FIND ANYTHING UNUSUAL IN YOUR DATA? DID ANYTHING SURPRISE YOU? WHICH OF THE INITIAL QUESTIONS WERE HELPFUL IN LEADING YOU TO MORE QUESTIONS?\n",
    "\n",
    "PARAGRAPH 2 SHOULD SUMMARIZE WHAT YOU LEARNED FROM INVESTIGATING THE FOLLOW-UP QUESTIONS. WHY ARE THESE FOLLOW-UP QUESTIONS INTERESTING FOR INVESTIGATION? DESCRIBE THE TABLES/FIGURES YOU USED TO EXPLORE ANSWERS TO THESE FOLLOW-UP QUESTIONS? WHAT DID YOU LEARN FROM THE TABLES/FIGURES REGARDING THE FOLLOW-UP QUESTIONS YOU PROPOSED?"
   ]
  },
  {
   "cell_type": "code",
   "execution_count": null,
   "id": "2210d6d9",
   "metadata": {},
   "outputs": [],
   "source": []
  }
 ],
 "metadata": {
  "kernelspec": {
   "display_name": "Python 3",
   "language": "python",
   "name": "python3"
  },
  "language_info": {
   "codemirror_mode": {
    "name": "ipython",
    "version": 3
   },
   "file_extension": ".py",
   "mimetype": "text/x-python",
   "name": "python",
   "nbconvert_exporter": "python",
   "pygments_lexer": "ipython3",
   "version": "3.10.6"
  }
 },
 "nbformat": 4,
 "nbformat_minor": 5
}
